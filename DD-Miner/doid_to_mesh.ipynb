{
 "cells": [
  {
   "cell_type": "code",
   "execution_count": 113,
   "metadata": {},
   "outputs": [],
   "source": [
    "import pandas as pd\n",
    "import json\n",
    "import copy"
   ]
  },
  {
   "cell_type": "code",
   "execution_count": 122,
   "metadata": {},
   "outputs": [
    {
     "name": "stdout",
     "output_type": "stream",
     "text": [
      "DD-Miner_miner-disease-disease.tsv     doid_to_mesh.csv        prev\r\n",
      "DD-Miner_miner-disease-disease.tsv.gz  doid_to_mesh.ipynb\r\n",
      "doid.json\t\t\t       final_conversion.ipynb\r\n"
     ]
    }
   ],
   "source": [
    "!ls"
   ]
  },
  {
   "cell_type": "code",
   "execution_count": 3,
   "metadata": {},
   "outputs": [],
   "source": [
    "f = open(\"doid.json\")"
   ]
  },
  {
   "cell_type": "code",
   "execution_count": 6,
   "metadata": {},
   "outputs": [],
   "source": [
    "json_data = json.load(f)"
   ]
  },
  {
   "cell_type": "code",
   "execution_count": 34,
   "metadata": {},
   "outputs": [
    {
     "data": {
      "text/plain": [
       "[{'val': 'NCI:C50706'},\n",
       " {'val': 'SNOMEDCT_US_2021_03_01:28103007'},\n",
       " {'val': 'MESH:D003668'},\n",
       " {'val': 'ICD9CM:707.0'},\n",
       " {'val': 'UMLS_CUI:C0011127'},\n",
       " {'val': 'ICD10CM:L89'}]"
      ]
     },
     "execution_count": 34,
     "metadata": {},
     "output_type": "execute_result"
    }
   ],
   "source": [
    "json_data['graphs'][0]['nodes'][1]['meta']['xrefs']"
   ]
  },
  {
   "cell_type": "code",
   "execution_count": 125,
   "metadata": {},
   "outputs": [],
   "source": [
    "f = open(\"doid_to_mesh.csv\", \"w\")\n",
    "for i, node in enumerate(json_data['graphs'][0]['nodes']):\n",
    "    if 'type' in node and node['type']==\"CLASS\":\n",
    "        if 'deprecated' in node['meta'] and node['meta']['deprecated']==True:\n",
    "            continue\n",
    "        \n",
    "        else:\n",
    "            if 'xrefs' in node['meta']:\n",
    "                doid = node['id'].split('/')[-1]\n",
    "                doid = doid.replace('_',':')\n",
    "                xrefs = node['meta']['xrefs']\n",
    "                for val in xrefs:\n",
    "                    tmp_val = val\n",
    "                    if tmp_val['val'].split(':')[0]==\"MESH\":\n",
    "                        f.write(doid+','+val['val']+'\\n')\n",
    "f.close()"
   ]
  },
  {
   "cell_type": "code",
   "execution_count": 102,
   "metadata": {},
   "outputs": [],
   "source": [
    "#json_data['graphs'][0]['nodes'][273]['meta']"
   ]
  },
  {
   "cell_type": "code",
   "execution_count": null,
   "metadata": {},
   "outputs": [],
   "source": []
  }
 ],
 "metadata": {
  "kernelspec": {
   "display_name": "Python 3",
   "language": "python",
   "name": "python3"
  },
  "language_info": {
   "codemirror_mode": {
    "name": "ipython",
    "version": 3
   },
   "file_extension": ".py",
   "mimetype": "text/x-python",
   "name": "python",
   "nbconvert_exporter": "python",
   "pygments_lexer": "ipython3",
   "version": "3.5.2"
  }
 },
 "nbformat": 4,
 "nbformat_minor": 2
}
